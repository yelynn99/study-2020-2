{
  "nbformat": 4,
  "nbformat_minor": 0,
  "metadata": {
    "colab": {
      "name": "voting(random, NN,knn, sgd, GBC).ipynb",
      "provenance": [],
      "collapsed_sections": [],
      "authorship_tag": "ABX9TyOfedPnVZSWxuZ16P1W51sF",
      "include_colab_link": true
    },
    "kernelspec": {
      "name": "python3",
      "display_name": "Python 3"
    }
  },
  "cells": [
    {
      "cell_type": "markdown",
      "metadata": {
        "id": "view-in-github",
        "colab_type": "text"
      },
      "source": [
        "<a href=\"https://colab.research.google.com/github/yelynn99/study-2020-2/blob/master/voting(random%2C_NN%2Cknn%2C_sgd%2C_GBC).ipynb\" target=\"_parent\"><img src=\"https://colab.research.google.com/assets/colab-badge.svg\" alt=\"Open In Colab\"/></a>"
      ]
    },
    {
      "cell_type": "code",
      "metadata": {
        "id": "wGpO13D6S2DT",
        "outputId": "fd61265a-0ecf-4e20-db67-3e04f19e3043",
        "colab": {
          "base_uri": "https://localhost:8080/"
        }
      },
      "source": [
        "import numpy as np # linear algebra\n",
        "\n",
        "from sklearn.datasets import fetch_openml\n",
        "from sklearn.ensemble import RandomForestClassifier, GradientBoostingClassifier, VotingClassifier\n",
        "from sklearn.neighbors import KNeighborsClassifier\n",
        "from sklearn.linear_model import SGDClassifier\n",
        "from sklearn.neural_network import MLPClassifier\n",
        "from sklearn.model_selection import train_test_split\n",
        "\n",
        "mnist = fetch_openml('mnist_784', version=1)\n",
        "mnist.keys()"
      ],
      "execution_count": 1,
      "outputs": [
        {
          "output_type": "execute_result",
          "data": {
            "text/plain": [
              "dict_keys(['data', 'target', 'frame', 'feature_names', 'target_names', 'DESCR', 'details', 'categories', 'url'])"
            ]
          },
          "metadata": {
            "tags": []
          },
          "execution_count": 1
        }
      ]
    },
    {
      "cell_type": "code",
      "metadata": {
        "id": "kj6dQH38TQU2"
      },
      "source": [
        "X, y= mnist[\"data\"], mnist[\"target\"]"
      ],
      "execution_count": 2,
      "outputs": []
    },
    {
      "cell_type": "code",
      "metadata": {
        "id": "B690lnE-UBXr"
      },
      "source": [
        "X_train, X_test, y_train, y_test = train_test_split(X, y,\n",
        "                                                    test_size = .2, random_state = 0)"
      ],
      "execution_count": 3,
      "outputs": []
    },
    {
      "cell_type": "code",
      "metadata": {
        "id": "d-olonLCUEft",
        "outputId": "4c5d56e1-30cf-4488-c8c2-152e8e9e1a34",
        "colab": {
          "base_uri": "https://localhost:8080/"
        }
      },
      "source": [
        "#randomforest\n",
        "clf1 = RandomForestClassifier(n_estimators = 250)\n",
        "clf1.fit(X_train, y_train)\n",
        "print( clf1.score(X_test, y_test))"
      ],
      "execution_count": 4,
      "outputs": [
        {
          "output_type": "stream",
          "text": [
            "0.9668571428571429\n"
          ],
          "name": "stdout"
        }
      ]
    },
    {
      "cell_type": "code",
      "metadata": {
        "id": "UMZxaf5nUI4C",
        "outputId": "2d733308-ccbb-46a5-dc35-134388987e3c",
        "colab": {
          "base_uri": "https://localhost:8080/"
        }
      },
      "source": [
        "#NeuralNetworks\n",
        "clf2 = MLPClassifier(hidden_layer_sizes = (400, 400, 400))\n",
        "clf2.fit(X_train, y_train)\n",
        "clf2.score(X_test, y_test)"
      ],
      "execution_count": 5,
      "outputs": [
        {
          "output_type": "execute_result",
          "data": {
            "text/plain": [
              "0.9772142857142857"
            ]
          },
          "metadata": {
            "tags": []
          },
          "execution_count": 5
        }
      ]
    },
    {
      "cell_type": "code",
      "metadata": {
        "id": "9WIx3RHHelLi",
        "outputId": "b195644c-f983-4847-f4a9-c4e9b6b4258e",
        "colab": {
          "base_uri": "https://localhost:8080/"
        }
      },
      "source": [
        "#KNN\n",
        "clf3 = KNeighborsClassifier(n_neighbors=42) #knn으로 바꿈\n",
        "clf3.fit(X_train, y_train)\n",
        "print(clf3.score(X_test, y_test))"
      ],
      "execution_count": 6,
      "outputs": [
        {
          "output_type": "stream",
          "text": [
            "0.9515\n"
          ],
          "name": "stdout"
        }
      ]
    },
    {
      "cell_type": "code",
      "metadata": {
        "id": "jP4EJHycfHqD",
        "outputId": "58130c67-2906-48de-e93a-e26c23463fb7",
        "colab": {
          "base_uri": "https://localhost:8080/"
        }
      },
      "source": [
        "#SGD\n",
        "clf4 = SGDClassifier(loss='log') #loss ftn에 대한 accuracy: [modified_huber : 0.8816, log : 0.8573, hinge : 0.8868]\n",
        "clf4.fit(X_train, y_train)\n",
        "clf4.score(X_test, y_test)"
      ],
      "execution_count": 7,
      "outputs": [
        {
          "output_type": "execute_result",
          "data": {
            "text/plain": [
              "0.8777142857142857"
            ]
          },
          "metadata": {
            "tags": []
          },
          "execution_count": 7
        }
      ]
    },
    {
      "cell_type": "code",
      "metadata": {
        "id": "4vUguEMElVJb"
      },
      "source": [
        "#SVC\n",
        "from sklearn.svm import SVC\n",
        "clf5 = SVC(kernel = \"rbf\", gamma = 0.021, C = 2.1)\n",
        "clf5.fit(X_train, y_train)\n",
        "print(clf5.score(X_test, y_test))"
      ],
      "execution_count": null,
      "outputs": []
    },
    {
      "cell_type": "code",
      "metadata": {
        "id": "XTaCYGUoV9Mw"
      },
      "source": [
        "#GradientBoostClassifier\n",
        "clf6 = GradientBoostingClassifier(n_estimators = 200)\n",
        "clf6.fit(X_train, y_train)\n",
        "clf6.score(X_test, y_test)"
      ],
      "execution_count": null,
      "outputs": []
    },
    {
      "cell_type": "code",
      "metadata": {
        "id": "XpLA72JkWACA",
        "outputId": "ecb25217-739c-4ef8-eb2a-d9492657b075",
        "colab": {
          "base_uri": "https://localhost:8080/"
        }
      },
      "source": [
        "#Voting(soft)\n",
        "clf7 = VotingClassifier([('randomforest', clf1), ('NeuralNetwork', clf2), ('KNN', clf3),('SGD',clf4)], voting = 'soft') #SVC, GBC는 너무 오래걸려서 뺐어요\n",
        "clf7.fit(X_train, y_train)\n",
        "clf7.score(X_test, y_test)"
      ],
      "execution_count": 8,
      "outputs": [
        {
          "output_type": "stream",
          "text": [
            "/usr/local/lib/python3.6/dist-packages/sklearn/linear_model/_base.py:313: RuntimeWarning: invalid value encountered in true_divide\n",
            "  prob /= prob.sum(axis=1).reshape((prob.shape[0], -1))\n"
          ],
          "name": "stderr"
        },
        {
          "output_type": "execute_result",
          "data": {
            "text/plain": [
              "0.9165"
            ]
          },
          "metadata": {
            "tags": []
          },
          "execution_count": 8
        }
      ]
    },
    {
      "cell_type": "code",
      "metadata": {
        "id": "Q0O5t5rpmn7W",
        "outputId": "9832fae5-4365-49c0-d5eb-b7cb7282db94",
        "colab": {
          "base_uri": "https://localhost:8080/"
        }
      },
      "source": [
        "#Voting(hard)\n",
        "clf7 = VotingClassifier([('randomforest', clf1), ('NeuralNetwork', clf2), ('KNN', clf3),('SGD',clf4)], voting = 'hard') #clf5는 너무 오래걸려서 뺐어요\n",
        "clf7.fit(X_train, y_train)\n",
        "clf7.score(X_test, y_test)"
      ],
      "execution_count": 9,
      "outputs": [
        {
          "output_type": "execute_result",
          "data": {
            "text/plain": [
              "0.9697142857142858"
            ]
          },
          "metadata": {
            "tags": []
          },
          "execution_count": 9
        }
      ]
    }
  ]
}