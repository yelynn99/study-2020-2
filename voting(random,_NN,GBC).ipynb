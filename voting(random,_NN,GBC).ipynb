{
  "nbformat": 4,
  "nbformat_minor": 0,
  "metadata": {
    "colab": {
      "name": "voting(random, NN,GBC).ipynb",
      "provenance": [],
      "authorship_tag": "ABX9TyOCd4SzSYlXtiYoAGf2PqFB",
      "include_colab_link": true
    },
    "kernelspec": {
      "name": "python3",
      "display_name": "Python 3"
    }
  },
  "cells": [
    {
      "cell_type": "markdown",
      "metadata": {
        "id": "view-in-github",
        "colab_type": "text"
      },
      "source": [
        "<a href=\"https://colab.research.google.com/github/yelynn99/study-2020-2/blob/master/voting(random%2C_NN%2CGBC).ipynb\" target=\"_parent\"><img src=\"https://colab.research.google.com/assets/colab-badge.svg\" alt=\"Open In Colab\"/></a>"
      ]
    },
    {
      "cell_type": "code",
      "metadata": {
        "id": "wGpO13D6S2DT",
        "outputId": "2b2e205b-a162-499d-909f-ef10f1088824",
        "colab": {
          "base_uri": "https://localhost:8080/",
          "height": 35
        }
      },
      "source": [
        "import numpy as np # linear algebra\n",
        "\n",
        "from sklearn.datasets import fetch_openml\n",
        "from sklearn.ensemble import RandomForestClassifier, GradientBoostingClassifier, VotingClassifier\n",
        "from sklearn.neural_network import MLPClassifier\n",
        "from sklearn.model_selection import train_test_split\n",
        "\n",
        "mnist = fetch_openml('mnist_784', version=1)\n",
        "mnist.keys()"
      ],
      "execution_count": null,
      "outputs": [
        {
          "output_type": "execute_result",
          "data": {
            "text/plain": [
              "dict_keys(['data', 'target', 'frame', 'feature_names', 'target_names', 'DESCR', 'details', 'categories', 'url'])"
            ]
          },
          "metadata": {
            "tags": []
          },
          "execution_count": 1
        }
      ]
    },
    {
      "cell_type": "code",
      "metadata": {
        "id": "kj6dQH38TQU2"
      },
      "source": [
        "X, y= mnist[\"data\"], mnist[\"target\"]"
      ],
      "execution_count": null,
      "outputs": []
    },
    {
      "cell_type": "code",
      "metadata": {
        "id": "B690lnE-UBXr"
      },
      "source": [
        "X_train, X_test, y_train, y_test = train_test_split(X, y,\n",
        "                                                    test_size = .2, random_state = 0)"
      ],
      "execution_count": null,
      "outputs": []
    },
    {
      "cell_type": "code",
      "metadata": {
        "id": "d-olonLCUEft",
        "outputId": "d99aa807-4d33-4bf9-a63f-6f14ef103231",
        "colab": {
          "base_uri": "https://localhost:8080/",
          "height": 35
        }
      },
      "source": [
        "clf1 = RandomForestClassifier(n_estimators = 250)\n",
        "clf1.fit(X_train, y_train)\n",
        "print( clf1.score(X_test, y_test))"
      ],
      "execution_count": null,
      "outputs": [
        {
          "output_type": "stream",
          "text": [
            "0.9683571428571428\n"
          ],
          "name": "stdout"
        }
      ]
    },
    {
      "cell_type": "code",
      "metadata": {
        "id": "UMZxaf5nUI4C",
        "outputId": "0bfe9b74-e9a8-48d9-e211-0fd79b9f0e0e",
        "colab": {
          "base_uri": "https://localhost:8080/",
          "height": 35
        }
      },
      "source": [
        "#NeuralNetworks\n",
        "clf2 = MLPClassifier(hidden_layer_sizes = (400, 400, 400))\n",
        "clf2.fit(X_train, y_train)\n",
        "clf2.score(X_test, y_test)"
      ],
      "execution_count": null,
      "outputs": [
        {
          "output_type": "execute_result",
          "data": {
            "text/plain": [
              "0.9789285714285715"
            ]
          },
          "metadata": {
            "tags": []
          },
          "execution_count": 6
        }
      ]
    },
    {
      "cell_type": "code",
      "metadata": {
        "id": "XTaCYGUoV9Mw"
      },
      "source": [
        "#GradientBoostClassifier\n",
        "clf3 = GradientBoostingClassifier(n_estimators = 200)\n",
        "clf3.fit(X_train, y_train)\n",
        "clf3.score(X_test, y_test)"
      ],
      "execution_count": null,
      "outputs": []
    },
    {
      "cell_type": "code",
      "metadata": {
        "id": "XpLA72JkWACA"
      },
      "source": [
        "#Voting\n",
        "clf4 = VotingClassifier([('rf', clf1), ('mpl', clf2), ('gbc', clf3)], voting = 'soft')\n",
        "clf4.fit(X_train, y_train)\n",
        "clf4.score(X_test, y_test)"
      ],
      "execution_count": null,
      "outputs": []
    }
  ]
}