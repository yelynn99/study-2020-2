{
  "nbformat": 4,
  "nbformat_minor": 0,
  "metadata": {
    "colab": {
      "name": "Untitled13.ipynb",
      "provenance": [],
      "authorship_tag": "ABX9TyMVKnKZFk9CVKgwUyo5mbnc",
      "include_colab_link": true
    },
    "kernelspec": {
      "name": "python3",
      "display_name": "Python 3"
    }
  },
  "cells": [
    {
      "cell_type": "markdown",
      "metadata": {
        "id": "view-in-github",
        "colab_type": "text"
      },
      "source": [
        "<a href=\"https://colab.research.google.com/github/yelynn99/study-2020-2/blob/master/0917_RF_2.ipynb\" target=\"_parent\"><img src=\"https://colab.research.google.com/assets/colab-badge.svg\" alt=\"Open In Colab\"/></a>"
      ]
    },
    {
      "cell_type": "code",
      "metadata": {
        "id": "baeVBlscW-lj",
        "colab_type": "code",
        "colab": {
          "base_uri": "https://localhost:8080/",
          "height": 51
        },
        "outputId": "350ae8b0-4f2f-4abe-a1d7-a70e5346d7be"
      },
      "source": [
        "from sklearn.datasets import fetch_openml\n",
        "\n",
        "mnist = fetch_openml('mnist_784', version=1)\n",
        "# print shape of the data\n",
        "X, y = mnist['data'], mnist['target']\n",
        "\n",
        "print(\"X shape = \", X.shape)\n",
        "print(\"y shape = \", y.shape)"
      ],
      "execution_count": 1,
      "outputs": [
        {
          "output_type": "stream",
          "text": [
            "X shape =  (70000, 784)\n",
            "y shape =  (70000,)\n"
          ],
          "name": "stdout"
        }
      ]
    },
    {
      "cell_type": "code",
      "metadata": {
        "id": "W8gW2RR7XF0J",
        "colab_type": "code",
        "colab": {
          "base_uri": "https://localhost:8080/",
          "height": 265
        },
        "outputId": "da42fc84-ca06-4c98-dd03-527c9759b559"
      },
      "source": [
        "# Show examples of datasets\n",
        "%matplotlib inline\n",
        "import matplotlib\n",
        "import matplotlib.pyplot as plt\n",
        "\n",
        "sample = X[1000]\n",
        "sample = sample.reshape(28, 28) # 28 * 28 = 784\n",
        "\n",
        "# Plot Data\n",
        "plt.imshow(sample, cmap=matplotlib.cm.binary, interpolation='nearest')\n",
        "plt.axis('off')\n",
        "plt.show()\n",
        "\n",
        "# Print Answer\n",
        "print(\"Answer = \", y[1000])"
      ],
      "execution_count": 2,
      "outputs": [
        {
          "output_type": "display_data",
          "data": {
            "image/png": "[encoded data removed]",
            "text/plain": [
              "<Figure size 432x288 with 1 Axes>"
            ]
          },
          "metadata": {
            "tags": [],
            "needs_background": "light"
          }
        },
        {
          "output_type": "stream",
          "text": [
            "Answer =  0\n"
          ],
          "name": "stdout"
        }
      ]
    },
    {
      "cell_type": "code",
      "metadata": {
        "id": "OK-tYEB0XHuq",
        "colab_type": "code",
        "colab": {}
      },
      "source": [
        "X_train, X_test, y_train, y_test = X[:60000], X[60000:], y[:60000], y[60000:]\n",
        "\n",
        "import numpy as np\n",
        "\n",
        "# Shuffle Training Set for Accuracy\n",
        "shuffle_index = np.random.permutation(60000)\n",
        "X_train, y_train = X_train[shuffle_index], y_train[shuffle_index]"
      ],
      "execution_count": 5,
      "outputs": []
    },
    {
      "cell_type": "code",
      "metadata": {
        "id": "oF6iq-bPXTvG",
        "colab_type": "code",
        "colab": {
          "base_uri": "https://localhost:8080/",
          "height": 153
        },
        "outputId": "dbec9b2c-3887-4b0c-aed1-3e8ee253cb8b"
      },
      "source": [
        "# using randomforest classifier\n",
        "from sklearn.ensemble import RandomForestClassifier\n",
        "\n",
        "clf = RandomForestClassifier()\n",
        "clf.fit(X_train, y_train)"
      ],
      "execution_count": 6,
      "outputs": [
        {
          "output_type": "execute_result",
          "data": {
            "text/plain": [
              "RandomForestClassifier(bootstrap=True, ccp_alpha=0.0, class_weight=None,\n",
              "                       criterion='gini', max_depth=None, max_features='auto',\n",
              "                       max_leaf_nodes=None, max_samples=None,\n",
              "                       min_impurity_decrease=0.0, min_impurity_split=None,\n",
              "                       min_samples_leaf=1, min_samples_split=2,\n",
              "                       min_weight_fraction_leaf=0.0, n_estimators=100,\n",
              "                       n_jobs=None, oob_score=False, random_state=None,\n",
              "                       verbose=0, warm_start=False)"
            ]
          },
          "metadata": {
            "tags": []
          },
          "execution_count": 6
        }
      ]
    },
    {
      "cell_type": "code",
      "metadata": {
        "id": "z8RFSj9CXbY4",
        "colab_type": "code",
        "colab": {
          "base_uri": "https://localhost:8080/",
          "height": 34
        },
        "outputId": "b54a07ea-5389-4099-a34a-937fa19b3f44"
      },
      "source": [
        "# make prediction using cross_validation score\n",
        "from sklearn.model_selection import cross_val_score\n",
        "\n",
        "cross_val_score(clf, X_train, y_train, cv=3, scoring=\"accuracy\")"
      ],
      "execution_count": 7,
      "outputs": [
        {
          "output_type": "execute_result",
          "data": {
            "text/plain": [
              "array([0.9667, 0.9676, 0.9631])"
            ]
          },
          "metadata": {
            "tags": []
          },
          "execution_count": 7
        }
      ]
    },
    {
      "cell_type": "code",
      "metadata": {
        "id": "QRNe1Ql2XebF",
        "colab_type": "code",
        "colab": {
          "base_uri": "https://localhost:8080/",
          "height": 34
        },
        "outputId": "6508b65a-2760-456d-e6e1-a935ec8d3a56"
      },
      "source": [
        "# to improve accuracy we have to tune training-test set\n",
        "from sklearn.preprocessing import StandardScaler\n",
        "\n",
        "scaler = StandardScaler()\n",
        "X_train_scale = scaler.fit_transform(X_train)\n",
        "\n",
        "clf.fit(X_train_scale, y_train)\n",
        "cross_val_score(clf, X_train, y_train, cv=3, scoring=\"accuracy\")"
      ],
      "execution_count": 8,
      "outputs": [
        {
          "output_type": "execute_result",
          "data": {
            "text/plain": [
              "array([0.9666 , 0.9656 , 0.96255])"
            ]
          },
          "metadata": {
            "tags": []
          },
          "execution_count": 8
        }
      ]
    },
    {
      "cell_type": "code",
      "metadata": {
        "id": "zmJeKGGSXfxl",
        "colab_type": "code",
        "colab": {
          "base_uri": "https://localhost:8080/",
          "height": 33
        },
        "outputId": "82ab2976-3ad8-4fb9-c0b2-b0ecb42c2877"
      },
      "source": [
        "# test score (KNN takes too long to train)\n",
        "\n",
        "X_test_scale = scaler.fit_transform(X_test)\n",
        "prediction = clf.predict(X_test_scale)\n",
        "result = (prediction == y_test).mean()\n",
        "\n",
        "print(result)"
      ],
      "execution_count": 9,
      "outputs": [
        {
          "output_type": "stream",
          "text": [
            "0.9585\n"
          ],
          "name": "stdout"
        }
      ]
    },
    {
      "cell_type": "code",
      "metadata": {
        "id": "jMazbDVEXkF7",
        "colab_type": "code",
        "colab": {
          "base_uri": "https://localhost:8080/",
          "height": 96
        },
        "outputId": "f554d8e5-e33f-4c89-a61f-b3c4b69830ce"
      },
      "source": [
        "fig = plt.figure()\n",
        "random_pick = np.random.randint(low=0, high=70000, size=10)\n",
        "print(y[random_pick])\n",
        "\n",
        "for i in range(10):\n",
        "    idx = random_pick[i]\n",
        "    img = np.reshape(X[idx], (28, 28))\n",
        "    plot = fig.add_subplot(1, 10, i+1)\n",
        "    plot.imshow(img, cmap='binary')"
      ],
      "execution_count": 10,
      "outputs": [
        {
          "output_type": "stream",
          "text": [
            "['3' '4' '5' '4' '7' '6' '9' '6' '9' '1']\n"
          ],
          "name": "stdout"
        },
        {
          "output_type": "display_data",
          "data": {
            "image/png": "[encoded data removed]",
            "text/plain": [
              "<Figure size 432x288 with 10 Axes>"
            ]
          },
          "metadata": {
            "tags": [],
            "needs_background": "light"
          }
        }
      ]
    }
  ]
}