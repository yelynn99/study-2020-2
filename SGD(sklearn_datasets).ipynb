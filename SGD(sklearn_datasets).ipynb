{
  "nbformat": 4,
  "nbformat_minor": 0,
  "metadata": {
    "colab": {
      "name": "knn(sklearn_datasets).ipynb",
      "provenance": [],
      "collapsed_sections": [],
      "include_colab_link": true
    },
    "kernelspec": {
      "name": "python3",
      "display_name": "Python 3"
    }
  },
  "cells": [
    {
      "cell_type": "markdown",
      "metadata": {
        "id": "view-in-github",
        "colab_type": "text"
      },
      "source": [
        "<a href=\"https://colab.research.google.com/github/yelynn99/study-2020-2/blob/master/SGD(sklearn_datasets).ipynb\" target=\"_parent\"><img src=\"https://colab.research.google.com/assets/colab-badge.svg\" alt=\"Open In Colab\"/></a>"
      ]
    },
    {
      "cell_type": "code",
      "metadata": {
        "id": "4s3JF3kpK2WA",
        "colab_type": "code",
        "colab": {
          "base_uri": "https://localhost:8080/",
          "height": 36
        },
        "outputId": "5cea081e-6428-4888-bede-20b15a30273f"
      },
      "source": [
        "from sklearn.datasets import fetch_openml\n",
        "import numpy as np\n",
        " \n",
        "# loading the dataset using fetch_openml\n",
        "mnist = fetch_openml('mnist_784', version=1)\n",
        "mnist.keys()"
      ],
      "execution_count": 37,
      "outputs": [
        {
          "output_type": "execute_result",
          "data": {
            "text/plain": [
              "dict_keys(['data', 'target', 'frame', 'feature_names', 'target_names', 'DESCR', 'details', 'categories', 'url'])"
            ]
          },
          "metadata": {
            "tags": []
          },
          "execution_count": 37
        }
      ]
    },
    {
      "cell_type": "code",
      "metadata": {
        "id": "FoslRznpLEiz",
        "colab_type": "code",
        "colab": {
          "base_uri": "https://localhost:8080/",
          "height": 36
        },
        "outputId": "ef7b9fff-c297-4b9c-e62e-5713c4339051"
      },
      "source": [
        "# The mnist features are store under \"data\", while the labels are under \"target\"\n",
        "X, y= mnist[\"data\"], mnist[\"target\"]\n",
        "X.shape, y.shape\n"
      ],
      "execution_count": 38,
      "outputs": [
        {
          "output_type": "execute_result",
          "data": {
            "text/plain": [
              "((70000, 784), (70000,))"
            ]
          },
          "metadata": {
            "tags": []
          },
          "execution_count": 38
        }
      ]
    },
    {
      "cell_type": "code",
      "metadata": {
        "id": "cVylOZPXLLhY",
        "colab_type": "code",
        "colab": {
          "base_uri": "https://localhost:8080/",
          "height": 248
        },
        "outputId": "4535046a-7119-42f3-dd5e-842345e0c1d4"
      },
      "source": [
        "# lets look at a digit\n",
        "import matplotlib.pyplot as plt\n",
        "import matplotlib as mpl\n",
        " \n",
        "some_digit = X[0]\n",
        "some_digit_image = some_digit.reshape(28, 28)\n",
        "plt.imshow(some_digit_image, cmap='binary')\n",
        "plt.axis(\"off\")\n",
        "plt.show()"
      ],
      "execution_count": 39,
      "outputs": [
        {
          "output_type": "display_data",
          "data": {
            "image/png": "[encoded data removed]",
            "text/plain": [
              "<Figure size 432x288 with 1 Axes>"
            ]
          },
          "metadata": {
            "tags": [],
            "needs_background": "light"
          }
        }
      ]
    },
    {
      "cell_type": "code",
      "metadata": {
        "id": "Ypchf8FALnBa",
        "colab_type": "code",
        "colab": {
          "base_uri": "https://localhost:8080/",
          "height": 36
        },
        "outputId": "12c56629-0ccc-4dd7-ad71-aad1c440b68a"
      },
      "source": [
        "# the labels are string, we need to convert them into number\n",
        "y = y.astype(np.uint8)\n",
        "y"
      ],
      "execution_count": 40,
      "outputs": [
        {
          "output_type": "execute_result",
          "data": {
            "text/plain": [
              "array([5, 0, 4, ..., 4, 5, 6], dtype=uint8)"
            ]
          },
          "metadata": {
            "tags": []
          },
          "execution_count": 40
        }
      ]
    },
    {
      "cell_type": "code",
      "metadata": {
        "id": "M5T-3Dk5LvLv",
        "colab_type": "code",
        "colab": {
          "base_uri": "https://localhost:8080/",
          "height": 36
        },
        "outputId": "029f87d0-5d56-466d-c29d-40b166fd9521"
      },
      "source": [
        "X_train, X_test, y_train, y_test = X[:60000], X[60000:], y[:60000], y[60000:]\n",
        "len(X_train), len(X_test), len(y_train), len(y_test)"
      ],
      "execution_count": 41,
      "outputs": [
        {
          "output_type": "execute_result",
          "data": {
            "text/plain": [
              "(60000, 10000, 60000, 10000)"
            ]
          },
          "metadata": {
            "tags": []
          },
          "execution_count": 41
        }
      ]
    },
    {
      "cell_type": "code",
      "metadata": {
        "id": "8zqsDGOKLv8e",
        "colab_type": "code",
        "colab": {
          "base_uri": "https://localhost:8080/",
          "height": 36
        },
        "outputId": "ffb3c423-25a6-4967-89c5-11e17127ac8f"
      },
      "source": [
        "from sklearn.linear_model import SGDClassifier\n",
        "forest_clf = SGDClassifier(loss='log') #loss ftn에 대한 accuracy: [modified_huber : 0.8816, log : 0.8573, hinge : 0.8868]\n",
        "forest_clf.fit(X_train, y_train)\n",
        "forest_clf.predict([some_digit])"
      ],
      "execution_count": 42,
      "outputs": [
        {
          "output_type": "execute_result",
          "data": {
            "text/plain": [
              "array([5], dtype=uint8)"
            ]
          },
          "metadata": {
            "tags": []
          },
          "execution_count": 42
        }
      ]
    },
    {
      "cell_type": "code",
      "metadata": {
        "id": "qsSkGvA-Meg2",
        "colab_type": "code",
        "colab": {
          "base_uri": "https://localhost:8080/",
          "height": 36
        },
        "outputId": "4adf04a7-00ee-48c9-d9c3-36190e107e1a"
      },
      "source": [
        "# Cross-Validation on RandomForestClassifier\n",
        "# measuring models performance(cross-validation scores (이거랑 confusion matrix) 두 개가 모델 정확성 측정하는 것임)\n",
        "from sklearn.model_selection import cross_val_score\n",
        "cross_val_score(forest_clf, X_train, y_train, cv=3, scoring='accuracy')\n"
      ],
      "execution_count": 43,
      "outputs": [
        {
          "output_type": "execute_result",
          "data": {
            "text/plain": [
              "array([0.8706, 0.8626, 0.8659])"
            ]
          },
          "metadata": {
            "tags": []
          },
          "execution_count": 43
        }
      ]
    },
    {
      "cell_type": "code",
      "metadata": {
        "id": "wFSMpvf_OoPw",
        "colab_type": "code",
        "colab": {
          "base_uri": "https://localhost:8080/",
          "height": 55
        },
        "outputId": "aa167199-8f5d-486d-a617-271d3a34c20a"
      },
      "source": [
        "from sklearn.metrics import accuracy_score\n",
        "y_test_pred = forest_clf.predict(X_test)\n",
        "print(y_test_pred)\n",
        "accuracy_score(y_test, y_test_pred)\n"
      ],
      "execution_count": 44,
      "outputs": [
        {
          "output_type": "stream",
          "text": [
            "[7 2 1 ... 4 5 6]\n"
          ],
          "name": "stdout"
        },
        {
          "output_type": "execute_result",
          "data": {
            "text/plain": [
              "0.8573"
            ]
          },
          "metadata": {
            "tags": []
          },
          "execution_count": 44
        }
      ]
    }
  ]
}