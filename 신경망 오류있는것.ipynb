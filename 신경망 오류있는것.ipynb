{
  "nbformat": 4,
  "nbformat_minor": 0,
  "metadata": {
    "colab": {
      "name": "Untitled0.ipynb",
      "provenance": [],
      "private_outputs": true,
      "collapsed_sections": [],
      "authorship_tag": "ABX9TyOc/tfa4OsXJsSfhQVRXRK5",
      "include_colab_link": true
    },
    "kernelspec": {
      "name": "python3",
      "display_name": "Python 3"
    }
  },
  "cells": [
    {
      "cell_type": "markdown",
      "metadata": {
        "id": "view-in-github",
        "colab_type": "text"
      },
      "source": [
        "<a href=\"https://colab.research.google.com/github/yelynn99/study-2020-2/blob/master/%EC%8B%A0%EA%B2%BD%EB%A7%9D%20%EC%98%A4%EB%A5%98%EC%9E%88%EB%8A%94%EA%B2%83.ipynb\" target=\"_parent\"><img src=\"https://colab.research.google.com/assets/colab-badge.svg\" alt=\"Open In Colab\"/></a>"
      ]
    },
    {
      "cell_type": "code",
      "metadata": {
        "id": "A6FrS39RBZ8i"
      },
      "source": [
        "from sklearn.datasets import fetch_openml\n",
        "import numpy as np\n",
        "import matplotlib.pyplot as plt\n",
        "import matplotlib as mpl\n",
        "\n",
        "# loading the dataset using fetch_openml\n",
        "mnist = fetch_openml('mnist_784', version=1)\n",
        "mnist.keys()\n",
        "\n",
        "X, y= mnist[\"data\"], mnist[\"target\"]\n",
        "print(X.shape, y.shape)\n",
        "y=y.reshape(-1,1)\n",
        "print(y.shape)\n",
        "y = y.astype(np.uint8)\n",
        "y\n",
        "X_train, X_test, y_train, y_test = X[:60000], X[60000:], y[:60000], y[60000:]\n",
        "training_data=np.hstack((y_train,X_train))\n",
        "test_data=np.hstack((y_test,X_test))\n",
        "print(training_data.shape,test_data.shape)\n",
        "print(training_data)"
      ],
      "execution_count": null,
      "outputs": []
    },
    {
      "cell_type": "code",
      "metadata": {
        "id": "OQpQSLanLoL-"
      },
      "source": [
        "#sigmoid 함수\n",
        "def sigmoid(x):\n",
        "    return 1/ (1+np.exp(-x))\n",
        "    \n",
        "#수치미분 함수\n",
        "def numerical_derivative(f,x):\n",
        "    delta_x = 1e-4\n",
        "    grad = np.zeros_like(x)\n",
        "    \n",
        "    it = np.nditer(x, flags=['multi_index'], op_flags=['readwrite'])\n",
        "    \n",
        "    while not it.finished:\n",
        "        idx=it.multi_index\n",
        "        tmp_val = x[idx]\n",
        "        \n",
        "        x[idx] = float(tmp_val) + delta_x\n",
        "        fx1 = f(x)\n",
        "        \n",
        "        x[idx] = float(tmp_val) - delta_x\n",
        "        fx2 = f(x)\n",
        "        \n",
        "        grad[idx] = (fx1 - fx2) / (2*delta_x)\n",
        "        \n",
        "        x[idx] = tmp_val\n",
        "        it.iternext()\n",
        "        \n",
        "        return grad"
      ],
      "execution_count": null,
      "outputs": []
    },
    {
      "cell_type": "code",
      "metadata": {
        "id": "M0UA9eLgLrCa"
      },
      "source": [
        "class NeuralNetwork:\n",
        "    def __init__(self, input_nodes, hidden_nodes, output_nodes):\n",
        "        self.input_nodes = input_nodes\n",
        "        self.hidden_nodes = hidden_nodes\n",
        "        self.output_nodes = output_nodes\n",
        "        \n",
        "        self.w2 = np.random.rand(self.input_nodes, self.hidden_nodes)\n",
        "        self.b2 = np.random.rand(self.hidden_nodes)\n",
        "        \n",
        "        self.w3 = np.random.rand(self.hidden_nodes, output_nodes)\n",
        "        self.b3 = np.random.rand(self.output_nodes)\n",
        "        \n",
        "        self.learning_rate = 1e-4\n",
        "        \n",
        "    def feed_forward(self):\n",
        "        delta = 1e-7\n",
        "        \n",
        "        z1 = np.dot(self.input_data, self.w2) + self.b2\n",
        "        a1 = sigmoid(z1)\n",
        "        \n",
        "        z2 = np.dot(a1, self.w3) + self.b3\n",
        "        y = sigmoid(z2)\n",
        "        \n",
        "        return -np.sum(self.target_data*np.log(y+delta)+(1-self.target_data)*np.log((1-y)+delta)) #cross_entropy loss ftn\n",
        "        \n",
        "    def train(self, training_data):\n",
        "        #normalize\n",
        "        self.target_data = np.zeros(output_nodes) + 0.01\n",
        "        self.target_data[int(training_data[0])] = 0.99\n",
        "        self.input_data = (training_data[1:]/255.0*0.99) + 0.01\n",
        "        \n",
        "        f = lambda x: self.feed_forward()\n",
        "        \n",
        "        self.w2 -= self.learning_rate * numerical_derivative(f, self.w2)\n",
        "        self.b2 -= self.learning_rate * numerical_derivative(f, self.b2)\n",
        "        self.w3 -= self.learning_rate * numerical_derivative(f, self.w3)\n",
        "        self.b3 -= self.learning_rate * numerical_derivative(f, self.b3)\n",
        "        \n",
        "    def predict(self, input_data):\n",
        "        z1 = np.dot(input_data, self.w2) + self.b2\n",
        "        y1 = sigmoid(z1)\n",
        "        z2 = np.dot(y1, self.w3) + self.b3\n",
        "        y = sigmoid(z2)\n",
        "        predicted_num = np.argmax(y)\n",
        "        \n",
        "        return predicted_num\n",
        "        \n",
        "    def accuracy(self, test_data):\n",
        "        matched_list = []\n",
        "        not_matched_list = []\n",
        "        \n",
        "        for index in range(len(test_data)):\n",
        "            label = int(test_data[index, 0])\n",
        "            \n",
        "            data = (test_data[index, 1:]/255.0*0.99)+ 0.01\n",
        "            \n",
        "            predicted_num = self.predict(data)\n",
        "            \n",
        "            if label == predicted_num:\n",
        "                matched_list.append(index)\n",
        "            else:\n",
        "                not_matched_list.append(index)\n",
        "                \n",
        "        print('current accuracy=', 100*(len(matched_list)/(len(test_data))), \"%\")\n",
        "        \n",
        "        return matched_list, not_matched_list"
      ],
      "execution_count": null,
      "outputs": []
    },
    {
      "cell_type": "code",
      "metadata": {
        "id": "WLTBi-mtLuut"
      },
      "source": [
        "input_nodes = 784\n",
        "hidden_nodes = 100\n",
        "output_nodes = 10\n",
        "\n",
        "nn = NeuralNetwork(input_nodes, hidden_nodes, output_nodes)\n",
        "\n",
        "for step in range(30001):\n",
        "    index = np.random.randint(0,len(training_data)-1)\n",
        "    nn.train(training_data[index])\n",
        "    \n",
        "    if step %400 == 0:\n",
        "        print(\"step=\",step,\" loss_val=\",nn.feed_forward())\n",
        "        \n",
        "     \n",
        "nn.accuracy(test_data)"
      ],
      "execution_count": null,
      "outputs": []
    }
  ]
}