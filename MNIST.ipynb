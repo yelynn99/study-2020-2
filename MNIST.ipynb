{
  "nbformat": 4,
  "nbformat_minor": 0,
  "metadata": {
    "colab": {
      "name": "MNIST.ipynb",
      "provenance": [],
      "collapsed_sections": [],
      "mount_file_id": "1Cbrt_SO3vImoepkdvy91K0OqkpjQJFvQ",
      "authorship_tag": "ABX9TyNO5skO1LWkt1N07m24+pwQ",
      "include_colab_link": true
    },
    "kernelspec": {
      "name": "python3",
      "display_name": "Python 3"
    }
  },
  "cells": [
    {
      "cell_type": "markdown",
      "metadata": {
        "id": "view-in-github",
        "colab_type": "text"
      },
      "source": [
        "<a href=\"https://colab.research.google.com/github/yelynn99/study-2020-2/blob/master/MNIST.ipynb\" target=\"_parent\"><img src=\"https://colab.research.google.com/assets/colab-badge.svg\" alt=\"Open In Colab\"/></a>"
      ]
    },
    {
      "cell_type": "code",
      "metadata": {
        "id": "h3vkkaKs5GsX",
        "colab_type": "code",
        "colab": {
          "base_uri": "https://localhost:8080/",
          "height": 35
        },
        "outputId": "3cab41ca-9ba2-45d3-842b-d64efeb52888"
      },
      "source": [
        "from google.colab import drive\n",
        "drive.mount('/content/gdrive')"
      ],
      "execution_count": null,
      "outputs": [
        {
          "output_type": "stream",
          "text": [
            "Mounted at /content/gdrive\n"
          ],
          "name": "stdout"
        }
      ]
    },
    {
      "cell_type": "code",
      "metadata": {
        "id": "g5ogP9LzAPu2",
        "colab_type": "code",
        "colab": {}
      },
      "source": [
        ""
      ],
      "execution_count": null,
      "outputs": []
    },
    {
      "cell_type": "code",
      "metadata": {
        "id": "oeZemdY_5JP3",
        "colab_type": "code",
        "colab": {
          "base_uri": "https://localhost:8080/",
          "height": 107
        },
        "outputId": "5237d974-a606-41ba-f030-3d709392ebfb"
      },
      "source": [
        "import numpy as np # Linear algebra\n",
        "import pandas as pd # For data manipulation\n",
        "import json\n",
        "import os\n",
        "import matplotlib.pyplot as plt # For visualization\n",
        "from sklearn.neighbors import KNeighborsClassifier # For modelling\n",
        "from sklearn.model_selection import cross_val_score, GridSearchCV, StratifiedKFold # For evaluation and hyperparameter tuning\n",
        "from sklearn.metrics import confusion_matrix, classification_report # For evaluation\n",
        "from scipy.ndimage import shift, rotate, zoom # For data augmentation\n",
        "from IPython.display import FileLink # For downloading the output file\n",
        "\n",
        "for dirname, _, filenames in os.walk('/content/gdrive/My Drive/MNIST'):\n",
        "    for filename in filenames:\n",
        "        print(os.path.join(dirname, filename))"
      ],
      "execution_count": null,
      "outputs": [
        {
          "output_type": "stream",
          "text": [
            "/content/gdrive/My Drive/MNIST/test.csv\n",
            "/content/gdrive/My Drive/MNIST/sample_submission.csv\n",
            "/content/gdrive/My Drive/MNIST/train.csv\n",
            "/content/gdrive/My Drive/MNIST/MNIST.ipynb\n",
            "/content/gdrive/My Drive/MNIST/knn(sklearn_datasets).ipynb\n"
          ],
          "name": "stdout"
        }
      ]
    },
    {
      "cell_type": "code",
      "metadata": {
        "id": "CYbNJxtc5Fy7",
        "colab_type": "code",
        "colab": {}
      },
      "source": [
        "train_df = pd.read_csv(\"/content/gdrive/My Drive/MNIST/train.csv\")\n",
        "test_df = pd.read_csv(\"/content/gdrive/My Drive/MNIST/test.csv\")\n",
        "submission_df = pd.read_csv(\"/content/gdrive/My Drive/MNIST/sample_submission.csv\")"
      ],
      "execution_count": null,
      "outputs": []
    },
    {
      "cell_type": "code",
      "metadata": {
        "id": "V_cg8FH37CGJ",
        "colab_type": "code",
        "colab": {
          "base_uri": "https://localhost:8080/",
          "height": 107
        },
        "outputId": "e98f3757-d2b1-4672-f414-630579e87196"
      },
      "source": [
        "train_df.info()"
      ],
      "execution_count": null,
      "outputs": [
        {
          "output_type": "stream",
          "text": [
            "<class 'pandas.core.frame.DataFrame'>\n",
            "RangeIndex: 42000 entries, 0 to 41999\n",
            "Columns: 785 entries, label to pixel783\n",
            "dtypes: int64(785)\n",
            "memory usage: 251.5 MB\n"
          ],
          "name": "stdout"
        }
      ]
    },
    {
      "cell_type": "code",
      "metadata": {
        "id": "GiVO9c-m7EN7",
        "colab_type": "code",
        "colab": {
          "base_uri": "https://localhost:8080/",
          "height": 107
        },
        "outputId": "a8876ef6-cf65-4a9c-96c5-c9a56faf17ce"
      },
      "source": [
        "test_df.info()"
      ],
      "execution_count": null,
      "outputs": [
        {
          "output_type": "stream",
          "text": [
            "<class 'pandas.core.frame.DataFrame'>\n",
            "RangeIndex: 28000 entries, 0 to 27999\n",
            "Columns: 784 entries, pixel0 to pixel783\n",
            "dtypes: int64(784)\n",
            "memory usage: 167.5 MB\n"
          ],
          "name": "stdout"
        }
      ]
    },
    {
      "cell_type": "code",
      "metadata": {
        "id": "T933qSmZ_3Ge",
        "colab_type": "code",
        "colab": {
          "base_uri": "https://localhost:8080/",
          "height": 71
        },
        "outputId": "b886bf65-b1c3-4454-e6ff-953e1b218435"
      },
      "source": [
        "X_train = train_df.iloc[:, 1:].values\n",
        "y_train = train_df.iloc[:, 0].values\n",
        "X_test = test_df.values\n",
        "\n",
        "print(f\"X_train shape: {X_train.shape}\")\n",
        "print(f\"y_train shape: {y_train.shape}\")\n",
        "print(f\"X_test shape: {X_test.shape}\")"
      ],
      "execution_count": null,
      "outputs": [
        {
          "output_type": "stream",
          "text": [
            "X_train shape: (42000, 784)\n",
            "y_train shape: (42000,)\n",
            "X_test shape: (28000, 784)\n"
          ],
          "name": "stdout"
        }
      ]
    },
    {
      "cell_type": "code",
      "metadata": {
        "id": "7mtgqH4q_6wU",
        "colab_type": "code",
        "colab": {
          "base_uri": "https://localhost:8080/",
          "height": 283
        },
        "outputId": "3ebbe542-4d4b-496d-95fe-43064c4b82a4"
      },
      "source": [
        "some_digit = X_train[40]\n",
        "\n",
        "some_digit_image = some_digit.reshape(28, 28)\n",
        "print(f\"Label: {y_train[40]}\")\n",
        "plt.imshow(some_digit_image, cmap=\"binary\")\n",
        "plt.show()"
      ],
      "execution_count": null,
      "outputs": [
        {
          "output_type": "stream",
          "text": [
            "Label: 9\n"
          ],
          "name": "stdout"
        },
        {
          "output_type": "display_data",
          "data": {
            "image/png": "[encoded data removed]",
            "text/plain": [
              "<Figure size 432x288 with 1 Axes>"
            ]
          },
          "metadata": {
            "tags": [],
            "needs_background": "light"
          }
        }
      ]
    },
    {
      "cell_type": "code",
      "metadata": {
        "id": "4enf6blx_6-m",
        "colab_type": "code",
        "colab": {
          "base_uri": "https://localhost:8080/",
          "height": 245
        },
        "outputId": "cf96fbf4-6231-4410-e878-7cb0854aac4b"
      },
      "source": [
        "stratified_fold = StratifiedKFold(n_splits=5, shuffle=True, random_state=42)\n",
        "\n",
        "for fold, indices in enumerate(stratified_fold.split(X_train, y_train)):\n",
        "    # Creating datasets for training and testing the model \n",
        "    X_train_, y_train_ = X_train[indices[0]], y_train[indices[0]]\n",
        "    X_test_, y_test_ = X_train[indices[1]], y_train[indices[1]]\n",
        "    \n",
        "    estimator = KNeighborsClassifier()\n",
        "    estimator.fit(X_train_, y_train_)\n",
        "    predictions = estimator.predict(X_test_)\n",
        "    \n",
        "    print(f\"Classification report for Fold {fold + 1}:\")\n",
        "    print(classification_report(y_test_, predictions, digits=3), end=\"\\n\\n\")\n",
        "    \n",
        "    print(f\"Confusion Matrix for Fold {fold + 1}:\")\n",
        "    print(confusion_matrix(y_test_, predictions), end=\"\\n\\n\")\n",
        "    \n",
        "    del X_train_\n",
        "    del X_test_\n",
        "    del y_train_\n",
        "    del y_test_"
      ],
      "execution_count": null,
      "outputs": [
        {
          "output_type": "error",
          "ename": "NameError",
          "evalue": "ignored",
          "traceback": [
            "\u001b[0;31m---------------------------------------------------------------------------\u001b[0m",
            "\u001b[0;31mNameError\u001b[0m                                 Traceback (most recent call last)",
            "\u001b[0;32m<ipython-input-2-f697aa1d7d88>\u001b[0m in \u001b[0;36m<module>\u001b[0;34m()\u001b[0m\n\u001b[0;32m----> 1\u001b[0;31m \u001b[0mstratified_fold\u001b[0m \u001b[0;34m=\u001b[0m \u001b[0mStratifiedKFold\u001b[0m\u001b[0;34m(\u001b[0m\u001b[0mn_splits\u001b[0m\u001b[0;34m=\u001b[0m\u001b[0;36m5\u001b[0m\u001b[0;34m,\u001b[0m \u001b[0mshuffle\u001b[0m\u001b[0;34m=\u001b[0m\u001b[0;32mTrue\u001b[0m\u001b[0;34m,\u001b[0m \u001b[0mrandom_state\u001b[0m\u001b[0;34m=\u001b[0m\u001b[0;36m42\u001b[0m\u001b[0;34m)\u001b[0m\u001b[0;34m\u001b[0m\u001b[0;34m\u001b[0m\u001b[0m\n\u001b[0m\u001b[1;32m      2\u001b[0m \u001b[0;34m\u001b[0m\u001b[0m\n\u001b[1;32m      3\u001b[0m \u001b[0;32mfor\u001b[0m \u001b[0mfold\u001b[0m\u001b[0;34m,\u001b[0m \u001b[0mindices\u001b[0m \u001b[0;32min\u001b[0m \u001b[0menumerate\u001b[0m\u001b[0;34m(\u001b[0m\u001b[0mstratified_fold\u001b[0m\u001b[0;34m.\u001b[0m\u001b[0msplit\u001b[0m\u001b[0;34m(\u001b[0m\u001b[0mX_train\u001b[0m\u001b[0;34m,\u001b[0m \u001b[0my_train\u001b[0m\u001b[0;34m)\u001b[0m\u001b[0;34m)\u001b[0m\u001b[0;34m:\u001b[0m\u001b[0;34m\u001b[0m\u001b[0;34m\u001b[0m\u001b[0m\n\u001b[1;32m      4\u001b[0m     \u001b[0;31m# Creating datasets for training and testing the model\u001b[0m\u001b[0;34m\u001b[0m\u001b[0;34m\u001b[0m\u001b[0;34m\u001b[0m\u001b[0m\n\u001b[1;32m      5\u001b[0m     \u001b[0mX_train_\u001b[0m\u001b[0;34m,\u001b[0m \u001b[0my_train_\u001b[0m \u001b[0;34m=\u001b[0m \u001b[0mX_train\u001b[0m\u001b[0;34m[\u001b[0m\u001b[0mindices\u001b[0m\u001b[0;34m[\u001b[0m\u001b[0;36m0\u001b[0m\u001b[0;34m]\u001b[0m\u001b[0;34m]\u001b[0m\u001b[0;34m,\u001b[0m \u001b[0my_train\u001b[0m\u001b[0;34m[\u001b[0m\u001b[0mindices\u001b[0m\u001b[0;34m[\u001b[0m\u001b[0;36m0\u001b[0m\u001b[0;34m]\u001b[0m\u001b[0;34m]\u001b[0m\u001b[0;34m\u001b[0m\u001b[0;34m\u001b[0m\u001b[0m\n",
            "\u001b[0;31mNameError\u001b[0m: name 'StratifiedKFold' is not defined"
          ]
        }
      ]
    },
    {
      "cell_type": "code",
      "metadata": {
        "id": "pfA68i9nAFFS",
        "colab_type": "code",
        "colab": {
          "base_uri": "https://localhost:8080/",
          "height": 245
        },
        "outputId": "ff5838fd-8d27-4954-ef77-6713c5d68ed3"
      },
      "source": [
        "grid_params = {\n",
        "    \"weights\": ['uniform', 'distance'],\n",
        "    \"n_neighbors\": [3, 4, 5, 6, 8, 10]\n",
        "}\n",
        "\n",
        "estimator = KNeighborsClassifier()\n",
        "grid_estimator = GridSearchCV(estimator, # Base estimator\n",
        "                              grid_params, # Parameters to tune\n",
        "                              cv=stratified_fold, # cross-validation stratergy\n",
        "                              verbose=2, # Verbosity of the logs\n",
        "                              n_jobs=-1) # Number of jobs to be run concurrently with -1 meaning all the processors\n",
        "\n",
        "\n",
        "#Fitting the estimator with training data\n",
        "grid_estimator.fit(X_train, y_train)\n",
        "\n",
        "print(f\"Best Score: {grid_estimator.best_score_}\", end=\"\\n\\n\")\n",
        "print(f\"Best Parameters: \\n{json.dumps(grid_estimator.best_params_, indent=4)}\",\n",
        "       end=\"\\n\\n\")\n",
        "print(\"Grid Search CV results:\")\n",
        "results_df = pd.DataFrame(grid_estimator.cv_results_)\n",
        "results_df"
      ],
      "execution_count": null,
      "outputs": [
        {
          "output_type": "error",
          "ename": "NameError",
          "evalue": "ignored",
          "traceback": [
            "\u001b[0;31m---------------------------------------------------------------------------\u001b[0m",
            "\u001b[0;31mNameError\u001b[0m                                 Traceback (most recent call last)",
            "\u001b[0;32m<ipython-input-1-d4f263270da5>\u001b[0m in \u001b[0;36m<module>\u001b[0;34m()\u001b[0m\n\u001b[1;32m      4\u001b[0m }\n\u001b[1;32m      5\u001b[0m \u001b[0;34m\u001b[0m\u001b[0m\n\u001b[0;32m----> 6\u001b[0;31m \u001b[0mestimator\u001b[0m \u001b[0;34m=\u001b[0m \u001b[0mKNeighborsClassifier\u001b[0m\u001b[0;34m(\u001b[0m\u001b[0;34m)\u001b[0m\u001b[0;34m\u001b[0m\u001b[0;34m\u001b[0m\u001b[0m\n\u001b[0m\u001b[1;32m      7\u001b[0m grid_estimator = GridSearchCV(estimator, # Base estimator\n\u001b[1;32m      8\u001b[0m                               \u001b[0mgrid_params\u001b[0m\u001b[0;34m,\u001b[0m \u001b[0;31m# Parameters to tune\u001b[0m\u001b[0;34m\u001b[0m\u001b[0;34m\u001b[0m\u001b[0m\n",
            "\u001b[0;31mNameError\u001b[0m: name 'KNeighborsClassifier' is not defined"
          ]
        }
      ]
    },
    {
      "cell_type": "code",
      "metadata": {
        "id": "-Q4ucdAAAOKJ",
        "colab_type": "code",
        "colab": {}
      },
      "source": [
        "estimator = KNeighborsClassifier(n_neighbors=4, weights='distance')\n",
        "estimator.fit(X_train, y_train)\n",
        "predictions = estimator.predict(X_test)"
      ],
      "execution_count": null,
      "outputs": []
    },
    {
      "cell_type": "code",
      "metadata": {
        "id": "YwNXPdvMAUhI",
        "colab_type": "code",
        "colab": {}
      },
      "source": [
        "def shift_in_one_direction(image, direction):\n",
        "    \"\"\"\n",
        "    Shifts an image by one pixel in the specified direction\n",
        "    \"\"\"\n",
        "    if direction == \"DOWN\":\n",
        "        image = shift(image, [1, 0])\n",
        "    elif direction == \"UP\":\n",
        "        image = shift(image, [-1, 0])\n",
        "    elif direction == \"LEFT\":\n",
        "        image = shift(image, [0, -1])\n",
        "    else:\n",
        "        image = shift(image, [0, 1])\n",
        "\n",
        "    return image\n",
        "\n",
        "\n",
        "def shift_in_all_directions(image):\n",
        "    \"\"\"\n",
        "    Shifts an image in all the directions by one pixel\n",
        "    \"\"\"\n",
        "    reshaped_image = image.reshape(28, 28)\n",
        "\n",
        "    down_shifted_image = shift_in_one_direction(reshaped_image, \"DOWN\")\n",
        "    up_shifted_image = shift_in_one_direction(reshaped_image, \"UP\")\n",
        "    left_shifted_image = shift_in_one_direction(reshaped_image, \"LEFT\")\n",
        "    right_shifted_image = shift_in_one_direction(reshaped_image, \"RIGHT\")\n",
        "\n",
        "    return (down_shifted_image, up_shifted_image,\n",
        "            left_shifted_image, right_shifted_image)\n",
        "\n",
        "\n",
        "def rotate_in_all_directions(image, angle):\n",
        "    \"\"\"\n",
        "    Rotates an image clockwise and anti-clockwise\n",
        "    \"\"\"\n",
        "    reshaped_image = image.reshape(28, 28)\n",
        "    \n",
        "    rotated_images = (rotate(reshaped_image, angle, reshape=False),\n",
        "                      rotate(reshaped_image, -angle, reshape=False))\n",
        "    \n",
        "    return rotated_images\n",
        "\n",
        "\n",
        "def clipped_zoom(image, zoom_ranges):\n",
        "    \"\"\"\n",
        "    Clips and zooms an image at the specified zooming ranges\n",
        "    \"\"\"\n",
        "    reshaped_image = image.reshape(28, 28)\n",
        "    \n",
        "    h, w = reshaped_image.shape\n",
        "    \n",
        "    zoomed_images = []\n",
        "    for zoom_range in zoom_ranges:\n",
        "        zh = int(np.round(h / zoom_range))\n",
        "        zw = int(np.round(w / zoom_range))\n",
        "        top = (h - zh) // 2\n",
        "        left = (w - zw) // 2\n",
        "        \n",
        "        zoomed_images.append(zoom(reshaped_image[top:top+zh, left:left+zw],\n",
        "                                  zoom_range))\n",
        "    \n",
        "    return zoomed_images\n",
        "\n",
        "def alter_image(image):\n",
        "    \"\"\"\n",
        "    Alters an image by shifting, rotating, and zooming it\n",
        "    \"\"\"\n",
        "    shifted_images = shift_in_all_directions(image)\n",
        "    rotated_images = rotate_in_all_directions(image, 10)\n",
        "    zoomed_images = clipped_zoom(image, [1.1, 1.2])\n",
        "            \n",
        "    return np.r_[shifted_images, rotated_images, zoomed_images]\n",
        "\n",
        "X_train_add = np.apply_along_axis(alter_image, 1, X_train).reshape(-1, 784)\n",
        "y_train_add = np.repeat(y_train, 8)\n",
        "\n",
        "print(f\"X_train_add shape: {X_train_add.shape}\")\n",
        "print(f\"y_train_add shape: {y_train_add.shape}\")"
      ],
      "execution_count": null,
      "outputs": []
    },
    {
      "cell_type": "code",
      "metadata": {
        "id": "FWoJeZ2xAZUd",
        "colab_type": "code",
        "colab": {}
      },
      "source": [
        "X_train_combined = np.r_[X_train, X_train_add]\n",
        "y_train_combined = np.r_[y_train, y_train_add]\n",
        "\n",
        "del X_train\n",
        "del X_train_add\n",
        "del y_train\n",
        "del y_train_add\n",
        "\n",
        "print(f\"X_train_combined shape: {X_train_combined.shape}\")\n",
        "print(f\"y_train_combined shape: {y_train_combined.shape}\")"
      ],
      "execution_count": null,
      "outputs": []
    },
    {
      "cell_type": "code",
      "metadata": {
        "id": "V-BtCAUcAbNV",
        "colab_type": "code",
        "colab": {}
      },
      "source": [
        "cdata_estimator = KNeighborsClassifier(n_neighbors=4, weights='distance')\n",
        "cdata_estimator.fit(X_train_combined, y_train_combined)\n",
        "cdata_estimator_predictions = cdata_estimator.predict(X_test)"
      ],
      "execution_count": null,
      "outputs": []
    },
    {
      "cell_type": "code",
      "metadata": {
        "id": "Wsqv5EUpAcw4",
        "colab_type": "code",
        "colab": {}
      },
      "source": [
        "submission_df[\"Label\"] = predictions\n",
        "submission_df.to_csv('submission.csv', index=False)\n",
        "FileLink('submission.csv')"
      ],
      "execution_count": null,
      "outputs": []
    },
    {
      "cell_type": "code",
      "metadata": {
        "id": "YKWtr6DZAeJm",
        "colab_type": "code",
        "colab": {}
      },
      "source": [
        "submission_df[\"Label\"] = cdata_estimator_predictions\n",
        "submission_df.to_csv('cdata_submission.csv', index=False)\n",
        "FileLink('cdata_submission.csv')"
      ],
      "execution_count": null,
      "outputs": []
    }
  ]
}