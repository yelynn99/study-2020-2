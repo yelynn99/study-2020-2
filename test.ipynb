{
  "nbformat": 4,
  "nbformat_minor": 0,
  "metadata": {
    "colab": {
      "name": "test.ipynb",
      "provenance": [],
      "private_outputs": true,
      "toc_visible": true,
      "mount_file_id": "19CRzJCwbJLQ1dmNYJ6ZUH8ke5gHiOfbF",
      "authorship_tag": "ABX9TyOCfdJw6PT2AuX6ZBtC+vU4",
      "include_colab_link": true
    },
    "kernelspec": {
      "name": "python3",
      "display_name": "Python 3"
    }
  },
  "cells": [
    {
      "cell_type": "markdown",
      "metadata": {
        "id": "view-in-github",
        "colab_type": "text"
      },
      "source": [
        "<a href=\"https://colab.research.google.com/github/yelynn99/study-2020-2/blob/master/test.ipynb\" target=\"_parent\"><img src=\"https://colab.research.google.com/assets/colab-badge.svg\" alt=\"Open In Colab\"/></a>"
      ]
    },
    {
      "cell_type": "code",
      "metadata": {
        "id": "hTp9_3sUwmXP",
        "colab_type": "code",
        "colab": {}
      },
      "source": [
        "import numpy as np\n",
        "import pandas as pd\n",
        "import matplotlib.pyplot as plt\n",
        "\n",
        "#reading the training data\n",
        "df = pd.read_csv('/content/drive/My Drive/google colab/train.csv')\n",
        "\n",
        "#seperating the label from training data\n",
        "label = df.label\n",
        "df.drop('label', axis=1, inplace=True)\n",
        "\n",
        "#training a svc model \n",
        "from sklearn.svm import SVC\n",
        "svc = SVC()\n",
        "svc.fit(df, label)\n",
        "\n",
        "#reading test data\n",
        "test = pd.read_csv('/content/drive/My Drive/google colab/test.csv')\n",
        "\n",
        "#making prediction on the test data using the trained svc model\n",
        "predictions = svc.predict(test)\n",
        "\n",
        "#converting the predictions in the required format\n",
        "table = []\n",
        "for i in range(0,len(predictions)):\n",
        "    row = {}\n",
        "    row['ImageId'] = i+1\n",
        "    row['Label'] = predictions[i]\n",
        "    table.append(row)\n",
        "answer = pd.DataFrame(table)\n",
        "    \n",
        "#saving the prediction in a csv file\n",
        "answer.to_csv(\"DigitRecognizer_answer.csv\",index=False)\n"
      ],
      "execution_count": null,
      "outputs": []
    },
    {
      "cell_type": "markdown",
      "metadata": {
        "id": "lu9e-Ce9c2BZ",
        "colab_type": "text"
      },
      "source": [
        "# 새 섹션"
      ]
    }
  ]
}